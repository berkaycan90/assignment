{
 "cells": [
  {
   "cell_type": "code",
   "execution_count": 1,
   "id": "ef35c23d-fbea-4eb0-8d78-271be4c260b9",
   "metadata": {},
   "outputs": [],
   "source": [
    "import numpy                        \n",
    "import pandas                        \n",
    "import seaborn\n",
    "import plotly.graph_objects\n",
    "import matplotlib.pyplot"
   ]
  },
  {
   "cell_type": "code",
   "execution_count": 15,
   "id": "40aee639-34a9-46cb-9208-f035316f5793",
   "metadata": {},
   "outputs": [],
   "source": [
    "df = pandas.read_excel(\"raw_data.xlsx\")\n",
    "df = df[[\"MusteriText\",\t\"MusteriID\",\t\"Sirket Kodu\",\t\"Takvim\",\t\"Primary Segment (Belge)\",\t\"Teklif kaynagi\",\t\"Total CS Revenue EUR\"]]\n",
    "df = df.groupby([\"MusteriText\", \"MusteriID\", \"Sirket Kodu\", \"Primary Segment (Belge)\",\t\"Teklif kaynagi\", \"Takvim\"]).sum().reset_index()"
   ]
  },
  {
   "cell_type": "code",
   "execution_count": 24,
   "id": "edbbbad3-f5d3-48e5-a5bf-8f8be053591c",
   "metadata": {},
   "outputs": [],
   "source": [
    "df = df.rename(index=str, columns={\"MusteriText\": \"Customer \", \n",
    "                                   \"MusteriID\" : \"Customer ID\", \n",
    "                                   \"Sirket Kodu\": \"Company Code\", \n",
    "                                   \"Primary Segment (Belge)\": \"Sector\", \n",
    "                                   \"Teklif kaynagi\": \"Source\", \n",
    "                                   \"Takvim\": \"Calendar\"})\n",
    "\n",
    "df.to_excel(\"cleaned_data.xlsx\", index = False, encoding='utf-8-sig')"
   ]
  },
  {
   "cell_type": "code",
   "execution_count": null,
   "id": "80d41d17-7741-41a0-a768-db722b29ef51",
   "metadata": {},
   "outputs": [],
   "source": []
  },
  {
   "cell_type": "code",
   "execution_count": null,
   "id": "e8e625ad-a767-4612-abf1-e682845359e1",
   "metadata": {},
   "outputs": [],
   "source": []
  },
  {
   "cell_type": "code",
   "execution_count": null,
   "id": "77c2f3b5-056e-440f-811c-d722baa26881",
   "metadata": {},
   "outputs": [],
   "source": []
  },
  {
   "cell_type": "code",
   "execution_count": null,
   "id": "dcacf1d2-066c-48af-b7ae-af60a1d81386",
   "metadata": {},
   "outputs": [],
   "source": []
  },
  {
   "cell_type": "code",
   "execution_count": null,
   "id": "5a22e54f-3294-4f26-be6e-94801720ba2f",
   "metadata": {},
   "outputs": [],
   "source": []
  },
  {
   "cell_type": "code",
   "execution_count": null,
   "id": "46b5d33d-9963-45e1-81b3-88b8ee5ab2ff",
   "metadata": {},
   "outputs": [],
   "source": []
  },
  {
   "cell_type": "code",
   "execution_count": null,
   "id": "8a140f79-edc6-4e94-8693-55f82ab0d5ac",
   "metadata": {},
   "outputs": [],
   "source": []
  },
  {
   "cell_type": "code",
   "execution_count": 52,
   "id": "4cbb6b1b-7f2b-44d5-92df-06d1e9a7c47e",
   "metadata": {},
   "outputs": [],
   "source": []
  },
  {
   "cell_type": "code",
   "execution_count": null,
   "id": "c83cda6c-03c5-4c05-a5c5-a60d180524d5",
   "metadata": {},
   "outputs": [],
   "source": []
  },
  {
   "cell_type": "code",
   "execution_count": null,
   "id": "a71daa91-de9d-4aeb-bb10-c6db53389706",
   "metadata": {},
   "outputs": [],
   "source": []
  },
  {
   "cell_type": "code",
   "execution_count": null,
   "id": "9fe02b5d-c08c-4fb0-8deb-e3ea4b7e7cae",
   "metadata": {},
   "outputs": [],
   "source": []
  },
  {
   "cell_type": "code",
   "execution_count": null,
   "id": "fff2f7aa-694a-45b6-98e1-ca30e3172bc3",
   "metadata": {},
   "outputs": [],
   "source": []
  },
  {
   "cell_type": "code",
   "execution_count": null,
   "id": "0923a933-0242-4556-8a86-0ef749a6221f",
   "metadata": {},
   "outputs": [],
   "source": []
  },
  {
   "cell_type": "code",
   "execution_count": null,
   "id": "a8b031a1-7691-47be-aba7-12bfc194c7e0",
   "metadata": {},
   "outputs": [],
   "source": []
  },
  {
   "cell_type": "code",
   "execution_count": null,
   "id": "7278e34a-b673-402a-bc71-ad3ac7b67de7",
   "metadata": {},
   "outputs": [],
   "source": []
  },
  {
   "cell_type": "code",
   "execution_count": null,
   "id": "defa23ae-ddf1-4fe0-910e-3bb7d164c966",
   "metadata": {},
   "outputs": [],
   "source": []
  },
  {
   "cell_type": "code",
   "execution_count": null,
   "id": "7d16fc74-f586-4cfe-8277-e8067bf0fb28",
   "metadata": {},
   "outputs": [],
   "source": []
  },
  {
   "cell_type": "code",
   "execution_count": null,
   "id": "5df831c9-446f-4499-95a9-d847d3cee5c1",
   "metadata": {},
   "outputs": [],
   "source": []
  },
  {
   "cell_type": "code",
   "execution_count": null,
   "id": "0e1e3801-cc7f-462d-8401-08fa0daa80bb",
   "metadata": {},
   "outputs": [],
   "source": []
  }
 ],
 "metadata": {
  "kernelspec": {
   "display_name": "Python 3 (ipykernel)",
   "language": "python",
   "name": "python3"
  },
  "language_info": {
   "codemirror_mode": {
    "name": "ipython",
    "version": 3
   },
   "file_extension": ".py",
   "mimetype": "text/x-python",
   "name": "python",
   "nbconvert_exporter": "python",
   "pygments_lexer": "ipython3",
   "version": "3.9.13"
  }
 },
 "nbformat": 4,
 "nbformat_minor": 5
}
